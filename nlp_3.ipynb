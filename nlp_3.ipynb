{
  "nbformat": 4,
  "nbformat_minor": 0,
  "metadata": {
    "colab": {
      "provenance": [],
      "authorship_tag": "ABX9TyPkoNGI8JnEZwMDSiY9wmXm",
      "include_colab_link": true
    },
    "kernelspec": {
      "name": "python3",
      "display_name": "Python 3"
    },
    "language_info": {
      "name": "python"
    }
  },
  "cells": [
    {
      "cell_type": "markdown",
      "metadata": {
        "id": "view-in-github",
        "colab_type": "text"
      },
      "source": [
        "<a href=\"https://colab.research.google.com/github/rushi-k12/NLP/blob/main/nlp_3.ipynb\" target=\"_parent\"><img src=\"https://colab.research.google.com/assets/colab-badge.svg\" alt=\"Open In Colab\"/></a>"
      ]
    },
    {
      "cell_type": "code",
      "execution_count": 1,
      "metadata": {
        "colab": {
          "base_uri": "https://localhost:8080/"
        },
        "id": "XSt2bZqwOhv8",
        "outputId": "f59e0fab-c538-4246-fa59-d464a626d657"
      },
      "outputs": [
        {
          "output_type": "stream",
          "name": "stdout",
          "text": [
            " Word         Position  Lowercase    Lemma        POS    Alphanumeric  Stopword \n",
            " On           0         on           on           ADP    True          True     \n",
            " Friday       1         friday       Friday       PROPN  True          False    \n",
            " board        2         board        board        NOUN   True          False    \n",
            " members      3         members      member       NOUN   True          False    \n",
            " meet         4         meet         meet         VERB   True          False    \n",
            " with         5         with         with         ADP    True          True     \n",
            " senior       6         senior       senior       ADJ    True          False    \n",
            " managers     7         managers     manager      NOUN   True          False    \n",
            " to           8         to           to           PART   True          True     \n",
            " discuss      9         discuss      discuss      VERB   True          False    \n",
            " future       10        future       future       ADJ    True          False    \n",
            " development  11        development  development  NOUN   True          False    \n",
            " of           12        of           of           ADP    True          True     \n",
            " the          13        the          the          DET    True          True     \n",
            " company      14        company      company      NOUN   True          False    \n",
            " .            15        .            .            PUNCT  False         False    \n"
          ]
        }
      ],
      "source": [
        "import spacy\n",
        "\n",
        "nlp = spacy.load(\"en_core_web_sm\")\n",
        "doc = nlp(\"On Friday board members meet with senior managers \" +\n",
        "          \"to discuss future development of the company.\")\n",
        "\n",
        "rows = []\n",
        "rows.append([\"Word\", \"Position\", \"Lowercase\", \"Lemma\", \"POS\", \"Alphanumeric\", \"Stopword\"])\n",
        "for token in doc:\n",
        "    rows.append([token.text, str(token.i), token.lower_, token.lemma_,\n",
        "                 token.pos_, str(token.is_alpha), str(token.is_stop)])\n",
        "\n",
        "columns = zip(*rows)\n",
        "column_widths = [max(len(item) for item in col) for col in columns]\n",
        "for row in rows:\n",
        "    print(''.join(' {:{width}} '.format(row[i], width=column_widths[i])\n",
        "                  for i in range(0, len(row))))"
      ]
    },
    {
      "cell_type": "code",
      "source": [
        "import spacy\n",
        "\n",
        "nlp = spacy.load(\"en_core_web_sm\")\n",
        "doc = nlp(\"On Friday, board members meet with senior managers \" +\n",
        "          \"to discuss future development of the company.\")\n",
        "\n",
        "for chunk in doc.noun_chunks:\n",
        "    print('\\t'.join([chunk.text, chunk.root.text, chunk.root.dep_,\n",
        "            chunk.root.head.text]))"
      ],
      "metadata": {
        "colab": {
          "base_uri": "https://localhost:8080/"
        },
        "id": "QKY84tPQOjn9",
        "outputId": "d1ba0475-0d13-48d2-a389-8d0ea85003d5"
      },
      "execution_count": 2,
      "outputs": [
        {
          "output_type": "stream",
          "name": "stdout",
          "text": [
            "Friday\tFriday\tpobj\tOn\n",
            "board members\tmembers\tnsubj\tmeet\n",
            "senior managers\tmanagers\tnsubj\tdiscuss\n",
            "future development\tdevelopment\tdobj\tdiscuss\n",
            "the company\tcompany\tpobj\tof\n"
          ]
        }
      ]
    },
    {
      "cell_type": "code",
      "source": [
        "from spacy import displacy\n",
        "from pathlib import Path\n",
        "\n",
        "svg = displacy.render(doc, style='dep', jupyter=False)\n",
        "file_name = '-'.join([w.text for w in doc if not w.is_punct]) + \".svg\"\n",
        "output_path = Path(file_name)\n",
        "output_path.open(\"w\", encoding=\"utf-8\").write(svg)"
      ],
      "metadata": {
        "colab": {
          "base_uri": "https://localhost:8080/"
        },
        "id": "F8Njzx5lPI9r",
        "outputId": "a9616c6b-2122-41e5-ce4d-85c01ddf70b2"
      },
      "execution_count": 3,
      "outputs": [
        {
          "output_type": "execute_result",
          "data": {
            "text/plain": [
              "12224"
            ]
          },
          "metadata": {},
          "execution_count": 3
        }
      ]
    },
    {
      "cell_type": "code",
      "source": [],
      "metadata": {
        "id": "h7UMWBW2PLbK"
      },
      "execution_count": null,
      "outputs": []
    }
  ]
}