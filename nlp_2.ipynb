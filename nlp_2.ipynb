{
  "nbformat": 4,
  "nbformat_minor": 0,
  "metadata": {
    "colab": {
      "provenance": [],
      "authorship_tag": "ABX9TyO6RU9yIILSP/tg3nQSI32a",
      "include_colab_link": true
    },
    "kernelspec": {
      "name": "python3",
      "display_name": "Python 3"
    },
    "language_info": {
      "name": "python"
    }
  },
  "cells": [
    {
      "cell_type": "markdown",
      "metadata": {
        "id": "view-in-github",
        "colab_type": "text"
      },
      "source": [
        "<a href=\"https://colab.research.google.com/github/rushi-k12/NLP/blob/main/nlp_2.ipynb\" target=\"_parent\"><img src=\"https://colab.research.google.com/assets/colab-badge.svg\" alt=\"Open In Colab\"/></a>"
      ]
    },
    {
      "cell_type": "code",
      "execution_count": 19,
      "metadata": {
        "id": "fRlxuDZGyJSf"
      },
      "outputs": [],
      "source": [
        "import nltk\n",
        "from nltk.corpus import stopwords\n",
        "from nltk.tokenize import word_tokenize\n",
        "from nltk.stem import PorterStemmer"
      ]
    },
    {
      "cell_type": "code",
      "source": [
        "nltk.download('stopwords')"
      ],
      "metadata": {
        "colab": {
          "base_uri": "https://localhost:8080/"
        },
        "id": "SLpyE9yxyqWA",
        "outputId": "8c2a0ace-50b2-478a-e275-857e61502be7"
      },
      "execution_count": 5,
      "outputs": [
        {
          "output_type": "stream",
          "name": "stderr",
          "text": [
            "[nltk_data] Downloading package stopwords to /root/nltk_data...\n",
            "[nltk_data]   Unzipping corpora/stopwords.zip.\n"
          ]
        },
        {
          "output_type": "execute_result",
          "data": {
            "text/plain": [
              "True"
            ]
          },
          "metadata": {},
          "execution_count": 5
        }
      ]
    },
    {
      "cell_type": "code",
      "source": [
        "a = set(stopwords.words('english'))\n",
        "print(a)"
      ],
      "metadata": {
        "colab": {
          "base_uri": "https://localhost:8080/"
        },
        "id": "dssHN9-tyTnh",
        "outputId": "b3c188a7-2a3c-41e0-bf95-4aed791da2eb"
      },
      "execution_count": 8,
      "outputs": [
        {
          "output_type": "stream",
          "name": "stdout",
          "text": [
            "{'yours', 'because', 'there', 'll', 'them', 'further', 'here', 'ourselves', 'is', 'won', 'were', 'her', 'had', 'theirs', 'above', 'own', 'after', 'where', 'no', \"won't\", 'in', 'out', 'shouldn', 'me', 'she', \"hasn't\", 'before', 'themselves', 'he', \"should've\", 'that', 'having', 'how', 'against', 'be', 'myself', 'a', 'yourselves', 'herself', 'all', 'but', 'you', 'same', 'wasn', 'they', 'an', 'i', 'our', 'only', 'their', \"it's\", 'during', 'mightn', 'was', 'more', \"isn't\", \"you've\", \"needn't\", 'nor', 'up', 'what', 'just', 'his', 'with', \"hadn't\", 'at', 'other', 'your', 'did', 'should', 'we', 'my', 'about', 'over', 'while', 'now', 'which', 're', \"mustn't\", \"wasn't\", 'don', 'has', \"mightn't\", 'himself', 'am', 'not', 'couldn', 'once', 'wouldn', \"haven't\", 'yourself', 'then', 'these', 'itself', 'on', \"wouldn't\", 'have', \"shouldn't\", 'below', \"you'll\", 'aren', 'its', 'to', 'mustn', 'the', 'doing', 'who', 'between', 'both', 'into', 'through', 'off', 'most', \"you'd\", \"that'll\", 'by', \"doesn't\", 'do', 'again', 'y', 'haven', 'shan', 'and', 'than', 'being', 'd', 'hers', 'ain', 'hadn', 'any', 'of', \"don't\", 'each', 'm', 'are', 'as', 'o', 'isn', 'him', 't', \"she's\", 'very', 'such', 'been', 'weren', 've', 'some', 'too', 'ours', 'when', 'will', 'didn', 'so', 'this', 'for', 'why', 's', \"shan't\", 'few', 'can', 'hasn', 'ma', 'it', 'does', \"didn't\", 'if', \"couldn't\", 'down', 'whom', 'doesn', \"aren't\", \"weren't\", 'from', 'or', 'needn', \"you're\", 'until', 'under', 'those'}\n"
          ]
        }
      ]
    },
    {
      "cell_type": "code",
      "source": [
        "nltk.download('punkt')"
      ],
      "metadata": {
        "colab": {
          "base_uri": "https://localhost:8080/"
        },
        "id": "6gENmCepzaSn",
        "outputId": "40f30b0c-0bc2-42be-a92d-aed96798e3eb"
      },
      "execution_count": 12,
      "outputs": [
        {
          "output_type": "stream",
          "name": "stderr",
          "text": [
            "[nltk_data] Downloading package punkt to /root/nltk_data...\n",
            "[nltk_data]   Unzipping tokenizers/punkt.zip.\n"
          ]
        },
        {
          "output_type": "execute_result",
          "data": {
            "text/plain": [
              "True"
            ]
          },
          "metadata": {},
          "execution_count": 12
        }
      ]
    },
    {
      "cell_type": "code",
      "source": [
        "phrase = 'Hello World . the helping'\n",
        "word_tokens = word_tokenize(phrase)\n",
        "print(word_tokens)"
      ],
      "metadata": {
        "colab": {
          "base_uri": "https://localhost:8080/"
        },
        "id": "cIRgdEVCybua",
        "outputId": "69ebdc09-0b1c-4120-f4eb-4aee06de9bed"
      },
      "execution_count": 24,
      "outputs": [
        {
          "output_type": "stream",
          "name": "stdout",
          "text": [
            "['Hello', 'World', '.', 'the', 'helping']\n"
          ]
        }
      ]
    },
    {
      "cell_type": "code",
      "source": [
        "filtered = [w for w in word_tokens if not w in a]\n",
        "print(filtered)"
      ],
      "metadata": {
        "colab": {
          "base_uri": "https://localhost:8080/"
        },
        "id": "xyPxI8oszRyr",
        "outputId": "0a680046-6072-4f73-832f-6c29c01d6cd7"
      },
      "execution_count": 25,
      "outputs": [
        {
          "output_type": "stream",
          "name": "stdout",
          "text": [
            "['Hello', 'World', '.', 'helping']\n"
          ]
        }
      ]
    },
    {
      "cell_type": "code",
      "source": [
        "ps = PorterStemmer()\n",
        "stemmed = [ps.stem(w) for w in filtered]\n",
        "print(stemmed)"
      ],
      "metadata": {
        "colab": {
          "base_uri": "https://localhost:8080/"
        },
        "id": "SlqMZWd7z8MC",
        "outputId": "b6a52f72-33e3-4961-c96f-af611f865345"
      },
      "execution_count": 26,
      "outputs": [
        {
          "output_type": "stream",
          "name": "stdout",
          "text": [
            "['hello', 'world', '.', 'help']\n"
          ]
        }
      ]
    },
    {
      "cell_type": "code",
      "source": [],
      "metadata": {
        "id": "bBk-Fbo6z-9-"
      },
      "execution_count": 26,
      "outputs": []
    }
  ]
}